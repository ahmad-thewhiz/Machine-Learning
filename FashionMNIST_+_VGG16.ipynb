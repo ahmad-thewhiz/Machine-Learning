{
  "nbformat": 4,
  "nbformat_minor": 0,
  "metadata": {
    "colab": {
      "provenance": []
    },
    "kernelspec": {
      "name": "python3",
      "display_name": "Python 3"
    },
    "language_info": {
      "name": "python"
    }
  },
  "cells": [
    {
      "cell_type": "code",
      "execution_count": null,
      "metadata": {
        "id": "BMjqdHCUbCsG"
      },
      "outputs": [],
      "source": [
        "import numpy as np\n",
        "import pandas as pd\n",
        "import os, time\n",
        "import matplotlib.pyplot as plt\n",
        "%matplotlib inline\n",
        "from sklearn.model_selection import train_test_split\n",
        "import keras\n",
        "from keras.utils import to_categorical\n",
        "from keras.models import Sequential\n",
        "from keras.layers import Conv2D, MaxPooling2D\n",
        "from keras.layers import Dense, Dropout, Flatten\n",
        "from keras.models import Model\n",
        "from keras import models\n",
        "from keras.preprocessing.image import ImageDataGenerator\n",
        "from keras.applications import VGG16;\n",
        "from keras.applications.vgg16 import preprocess_input\n",
        "import os\n",
        "import tensorflow as tf"
      ]
    },
    {
      "cell_type": "code",
      "source": [
        "fashionMnist = tf.keras.datasets.fashion_mnist.load_data()"
      ],
      "metadata": {
        "id": "MFReCbPkbH9l"
      },
      "execution_count": null,
      "outputs": []
    },
    {
      "cell_type": "code",
      "source": [
        "(xTrainFull, yTrainFull), (xTest, yTest) = fashionMnist"
      ],
      "metadata": {
        "id": "itb-8L0NbLGM"
      },
      "execution_count": null,
      "outputs": []
    },
    {
      "cell_type": "code",
      "source": [
        "xTrainFull.shape"
      ],
      "metadata": {
        "colab": {
          "base_uri": "https://localhost:8080/"
        },
        "id": "ITeMpBvmbggS",
        "outputId": "a58a6716-593e-4f47-c0f2-c00dcb51857d"
      },
      "execution_count": null,
      "outputs": [
        {
          "output_type": "execute_result",
          "data": {
            "text/plain": [
              "(60000, 28, 28)"
            ]
          },
          "metadata": {},
          "execution_count": 4
        }
      ]
    },
    {
      "cell_type": "code",
      "source": [
        "def flatten_images(images):\n",
        "    \"\"\"\n",
        "    Flatten each image in the dataset from 28x28 to 784.\n",
        "\n",
        "    Parameters:\n",
        "    images (numpy.ndarray): Array of images with shape (n_images, 28, 28).\n",
        "\n",
        "    Returns:\n",
        "    numpy.ndarray: Array of flattened images with shape (n_images, 784).\n",
        "    \"\"\"\n",
        "    n_images = images.shape[0]\n",
        "    flattened_images = np.zeros((n_images, 784))\n",
        "\n",
        "    for i in range(n_images):\n",
        "        flattened_images[i] = images[i].reshape(-1)  # Reshape 28x28 to 784\n",
        "\n",
        "    return flattened_images"
      ],
      "metadata": {
        "id": "_eURHbd2blCk"
      },
      "execution_count": null,
      "outputs": []
    },
    {
      "cell_type": "code",
      "source": [
        "xTrain, xTest = flatten_images(xTrainFull), flatten_images(xTest)\n",
        "xTrain.shape, xTest.shape"
      ],
      "metadata": {
        "colab": {
          "base_uri": "https://localhost:8080/"
        },
        "id": "YB_LYX0kb1s_",
        "outputId": "da34e3d7-6857-47ad-9527-3411fab9998a"
      },
      "execution_count": null,
      "outputs": [
        {
          "output_type": "execute_result",
          "data": {
            "text/plain": [
              "((60000, 784), (10000, 784))"
            ]
          },
          "metadata": {},
          "execution_count": 6
        }
      ]
    },
    {
      "cell_type": "code",
      "source": [
        "classes = np.unique(yTrainFull)\n",
        "print(len(classes))"
      ],
      "metadata": {
        "colab": {
          "base_uri": "https://localhost:8080/"
        },
        "id": "sldrw9tzcCy-",
        "outputId": "1af56472-ef6d-4543-ef00-c25cd0d571dc"
      },
      "execution_count": null,
      "outputs": [
        {
          "output_type": "stream",
          "name": "stdout",
          "text": [
            "10\n"
          ]
        }
      ]
    },
    {
      "cell_type": "code",
      "source": [
        "xTrain=np.dstack([xTrain] * 3)\n",
        "xTest=np.dstack([xTest]*3)\n",
        "xTrain.shape,xTest.shape"
      ],
      "metadata": {
        "colab": {
          "base_uri": "https://localhost:8080/"
        },
        "id": "HO0B24j4cJRv",
        "outputId": "2f0efd2c-efc8-41cd-d6db-79706edaa864"
      },
      "execution_count": null,
      "outputs": [
        {
          "output_type": "execute_result",
          "data": {
            "text/plain": [
              "((60000, 784, 3), (10000, 784, 3))"
            ]
          },
          "metadata": {},
          "execution_count": 8
        }
      ]
    },
    {
      "cell_type": "code",
      "source": [
        "# Reshape images as per the tensor format required by tensorflow\n",
        "xTrain = xTrain.reshape(-1, 28,28,3)\n",
        "xTest= xTest.reshape (-1,28,28,3)\n",
        "xTrain.shape,xTest.shape"
      ],
      "metadata": {
        "colab": {
          "base_uri": "https://localhost:8080/"
        },
        "id": "ATRI8ZolcWB7",
        "outputId": "6853cd57-ba92-43ff-ab03-bbb9619832d7"
      },
      "execution_count": null,
      "outputs": [
        {
          "output_type": "execute_result",
          "data": {
            "text/plain": [
              "((60000, 28, 28, 3), (10000, 28, 28, 3))"
            ]
          },
          "metadata": {},
          "execution_count": 9
        }
      ]
    },
    {
      "cell_type": "code",
      "source": [
        "from keras.preprocessing.image import img_to_array, array_to_img\n",
        "xTrain = np.asarray([img_to_array(array_to_img(im, scale=False).resize((48,48))) for im in xTrain])\n",
        "xTest = np.asarray([img_to_array(array_to_img(im, scale=False).resize((48,48))) for im in xTest])\n",
        "#xTrain = preprocess_input(x)\n",
        "xTrain.shape, xTest.shape"
      ],
      "metadata": {
        "colab": {
          "base_uri": "https://localhost:8080/"
        },
        "id": "liq2tV83ccxh",
        "outputId": "0f63614b-b37c-4073-c212-634db723bc22"
      },
      "execution_count": null,
      "outputs": [
        {
          "output_type": "execute_result",
          "data": {
            "text/plain": [
              "((60000, 48, 48, 3), (10000, 48, 48, 3))"
            ]
          },
          "metadata": {},
          "execution_count": 10
        }
      ]
    },
    {
      "cell_type": "code",
      "source": [
        "# Normalise the data and change data type\n",
        "xTrain = xTrain / 255.\n",
        "xTest = xTest / 255.\n",
        "xTrain = xTrain.astype('float32')\n",
        "xTest = xTest.astype('float32')"
      ],
      "metadata": {
        "id": "jnQi1MchcerD"
      },
      "execution_count": null,
      "outputs": []
    },
    {
      "cell_type": "code",
      "source": [
        "train_Y_one_hot = to_categorical(yTrainFull)\n",
        "test_Y_one_hot = to_categorical(yTest)"
      ],
      "metadata": {
        "id": "duhgE5P1cokk"
      },
      "execution_count": null,
      "outputs": []
    },
    {
      "cell_type": "code",
      "source": [
        "train_Y_one_hot[0]"
      ],
      "metadata": {
        "colab": {
          "base_uri": "https://localhost:8080/"
        },
        "id": "PtFvuVbHdFMD",
        "outputId": "9ed1ba04-757e-44af-b627-8fa594ce6843"
      },
      "execution_count": null,
      "outputs": [
        {
          "output_type": "execute_result",
          "data": {
            "text/plain": [
              "array([0., 0., 0., 0., 0., 0., 0., 0., 0., 1.], dtype=float32)"
            ]
          },
          "metadata": {},
          "execution_count": 13
        }
      ]
    },
    {
      "cell_type": "code",
      "source": [
        "xTrain, xValid, train_label, valid_label = train_test_split(xTrain,\n",
        "                                                           train_Y_one_hot,\n",
        "                                                           test_size=0.2,\n",
        "                                                           random_state=13\n",
        "                                                           )"
      ],
      "metadata": {
        "id": "pJ5dWfbZcr8k"
      },
      "execution_count": null,
      "outputs": []
    },
    {
      "cell_type": "code",
      "source": [
        "xTrain.shape, xValid.shape, train_label.shape, valid_label.shape"
      ],
      "metadata": {
        "colab": {
          "base_uri": "https://localhost:8080/"
        },
        "id": "K8Ps0BE8c2yC",
        "outputId": "7ac5b449-72bc-48ad-c25a-d514c3e20427"
      },
      "execution_count": null,
      "outputs": [
        {
          "output_type": "execute_result",
          "data": {
            "text/plain": [
              "((48000, 48, 48, 3), (12000, 48, 48, 3), (48000, 10), (12000, 10))"
            ]
          },
          "metadata": {},
          "execution_count": 15
        }
      ]
    },
    {
      "cell_type": "code",
      "source": [
        "train_label[2]"
      ],
      "metadata": {
        "colab": {
          "base_uri": "https://localhost:8080/"
        },
        "id": "LIMi_ekYc8pT",
        "outputId": "36edae46-1ebd-43e8-b319-2d6341eb8257"
      },
      "execution_count": null,
      "outputs": [
        {
          "output_type": "execute_result",
          "data": {
            "text/plain": [
              "array([0., 0., 0., 0., 0., 0., 0., 0., 1., 0.], dtype=float32)"
            ]
          },
          "metadata": {},
          "execution_count": 16
        }
      ]
    },
    {
      "cell_type": "code",
      "source": [
        "IMG_WIDTH = 48\n",
        "IMG_HEIGHT = 48\n",
        "IMG_DEPTH = 3\n",
        "BATCH_SIZE = 16"
      ],
      "metadata": {
        "id": "DuYZQceIdPz6"
      },
      "execution_count": null,
      "outputs": []
    },
    {
      "cell_type": "code",
      "source": [
        "train_X = preprocess_input(xTrain)\n",
        "valid_X = preprocess_input(xValid)\n",
        "test_X  = preprocess_input (xTest)"
      ],
      "metadata": {
        "id": "uv4NHOEyeUm1"
      },
      "execution_count": null,
      "outputs": []
    },
    {
      "cell_type": "code",
      "source": [
        "conv_base = keras.applications.vgg16.VGG16(weights='imagenet',\n",
        "                  include_top=False,\n",
        "                  input_shape=(IMG_HEIGHT, IMG_WIDTH, IMG_DEPTH),\n",
        "                  pooling=\"avg\",\n",
        "                  classifier_activation=\"softmax\",\n",
        "                 )\n",
        "conv_base.summary()"
      ],
      "metadata": {
        "colab": {
          "base_uri": "https://localhost:8080/"
        },
        "id": "JNQYMMeZeZI2",
        "outputId": "34d1b77f-e3cb-4649-bbca-a50a828e6097"
      },
      "execution_count": null,
      "outputs": [
        {
          "output_type": "stream",
          "name": "stdout",
          "text": [
            "Downloading data from https://storage.googleapis.com/tensorflow/keras-applications/vgg16/vgg16_weights_tf_dim_ordering_tf_kernels_notop.h5\n",
            "58889256/58889256 [==============================] - 0s 0us/step\n",
            "Model: \"vgg16\"\n",
            "_________________________________________________________________\n",
            " Layer (type)                Output Shape              Param #   \n",
            "=================================================================\n",
            " input_1 (InputLayer)        [(None, 48, 48, 3)]       0         \n",
            "                                                                 \n",
            " block1_conv1 (Conv2D)       (None, 48, 48, 64)        1792      \n",
            "                                                                 \n",
            " block1_conv2 (Conv2D)       (None, 48, 48, 64)        36928     \n",
            "                                                                 \n",
            " block1_pool (MaxPooling2D)  (None, 24, 24, 64)        0         \n",
            "                                                                 \n",
            " block2_conv1 (Conv2D)       (None, 24, 24, 128)       73856     \n",
            "                                                                 \n",
            " block2_conv2 (Conv2D)       (None, 24, 24, 128)       147584    \n",
            "                                                                 \n",
            " block2_pool (MaxPooling2D)  (None, 12, 12, 128)       0         \n",
            "                                                                 \n",
            " block3_conv1 (Conv2D)       (None, 12, 12, 256)       295168    \n",
            "                                                                 \n",
            " block3_conv2 (Conv2D)       (None, 12, 12, 256)       590080    \n",
            "                                                                 \n",
            " block3_conv3 (Conv2D)       (None, 12, 12, 256)       590080    \n",
            "                                                                 \n",
            " block3_pool (MaxPooling2D)  (None, 6, 6, 256)         0         \n",
            "                                                                 \n",
            " block4_conv1 (Conv2D)       (None, 6, 6, 512)         1180160   \n",
            "                                                                 \n",
            " block4_conv2 (Conv2D)       (None, 6, 6, 512)         2359808   \n",
            "                                                                 \n",
            " block4_conv3 (Conv2D)       (None, 6, 6, 512)         2359808   \n",
            "                                                                 \n",
            " block4_pool (MaxPooling2D)  (None, 3, 3, 512)         0         \n",
            "                                                                 \n",
            " block5_conv1 (Conv2D)       (None, 3, 3, 512)         2359808   \n",
            "                                                                 \n",
            " block5_conv2 (Conv2D)       (None, 3, 3, 512)         2359808   \n",
            "                                                                 \n",
            " block5_conv3 (Conv2D)       (None, 3, 3, 512)         2359808   \n",
            "                                                                 \n",
            " block5_pool (MaxPooling2D)  (None, 1, 1, 512)         0         \n",
            "                                                                 \n",
            " global_average_pooling2d (  (None, 512)               0         \n",
            " GlobalAveragePooling2D)                                         \n",
            "                                                                 \n",
            "=================================================================\n",
            "Total params: 14714688 (56.13 MB)\n",
            "Trainable params: 14714688 (56.13 MB)\n",
            "Non-trainable params: 0 (0.00 Byte)\n",
            "_________________________________________________________________\n"
          ]
        }
      ]
    },
    {
      "cell_type": "code",
      "source": [
        "train_features = conv_base.predict(np.array(xTrain), batch_size=BATCH_SIZE, verbose=1)\n",
        "test_features = conv_base.predict(np.array(xTest), batch_size=BATCH_SIZE, verbose=1)\n",
        "val_features = conv_base.predict(np.array(xValid), batch_size=BATCH_SIZE, verbose=1)"
      ],
      "metadata": {
        "colab": {
          "base_uri": "https://localhost:8080/"
        },
        "id": "5rWHDtucexnW",
        "outputId": "25333f82-49b3-41b0-f225-a74fcb292078"
      },
      "execution_count": 22,
      "outputs": [
        {
          "output_type": "stream",
          "name": "stdout",
          "text": [
            "3000/3000 [==============================] - 1090s 363ms/step\n",
            "625/625 [==============================] - 226s 361ms/step\n",
            "750/750 [==============================] - 273s 364ms/step\n"
          ]
        }
      ]
    },
    {
      "cell_type": "code",
      "source": [
        "np.savez(\"train_features\", train_features, train_label)\n",
        "np.savez(\"test_features\", test_features, yTest)\n",
        "np.savez(\"val_features\", val_features, valid_label)"
      ],
      "metadata": {
        "id": "Oxf1zeoce-iX"
      },
      "execution_count": 25,
      "outputs": []
    },
    {
      "cell_type": "code",
      "source": [
        "print(train_features.shape, \"\\n\",  test_features.shape, \"\\n\", val_features.shape)"
      ],
      "metadata": {
        "id": "u-n8tTAafG83",
        "colab": {
          "base_uri": "https://localhost:8080/"
        },
        "outputId": "d51c5757-fa1f-49ad-aa30-0a6d43a4b19e"
      },
      "execution_count": 24,
      "outputs": [
        {
          "output_type": "stream",
          "name": "stdout",
          "text": [
            "(48000, 512) \n",
            " (10000, 512) \n",
            " (12000, 512)\n"
          ]
        }
      ]
    },
    {
      "cell_type": "code",
      "source": [
        "# Flatten extracted features\n",
        "train_features_flat = np.reshape(train_features, (48000, 1*1*512))\n",
        "test_features_flat = np.reshape(test_features, (10000, 1*1*512))\n",
        "val_features_flat = np.reshape(val_features, (12000, 1*1*512))"
      ],
      "metadata": {
        "id": "PXKB5mO2fM5s"
      },
      "execution_count": 26,
      "outputs": []
    },
    {
      "cell_type": "code",
      "source": [
        "from keras import models\n",
        "from keras.models import Model\n",
        "from keras import layers\n",
        "from keras import optimizers\n",
        "from keras import callbacks\n",
        "from keras.layers import LeakyReLU"
      ],
      "metadata": {
        "id": "Kgf2SW9QfPU6"
      },
      "execution_count": 28,
      "outputs": []
    },
    {
      "cell_type": "code",
      "source": [
        "numClasses = 10"
      ],
      "metadata": {
        "id": "yLCFFZPtz2QJ"
      },
      "execution_count": 31,
      "outputs": []
    },
    {
      "cell_type": "code",
      "source": [
        "NB_TRAIN_SAMPLES = train_features_flat.shape[0]\n",
        "NB_VALIDATION_SAMPLES = val_features_flat.shape[0]\n",
        "NB_EPOCHS = 100\n",
        "\n",
        "model = models.Sequential()\n",
        "model.add(layers.Dense(512, activation='relu', input_dim=(1*1*512)))\n",
        "model.add(layers.LeakyReLU(alpha=0.1))\n",
        "model.add(layers.Dense(numClasses, activation='softmax'))"
      ],
      "metadata": {
        "id": "6m1n_3JUnpvs"
      },
      "execution_count": 32,
      "outputs": []
    },
    {
      "cell_type": "code",
      "source": [
        "model.compile(\n",
        "    loss='categorical_crossentropy',\n",
        "    optimizer=optimizers.Adam(),\n",
        "  # optimizer=optimizers.RMSprop(lr=2e-5),\n",
        "    metrics=['acc'])"
      ],
      "metadata": {
        "id": "1AQjX0yqnqdi"
      },
      "execution_count": 33,
      "outputs": []
    },
    {
      "cell_type": "code",
      "source": [
        "reduce_learning = callbacks.ReduceLROnPlateau(\n",
        "    monitor='val_loss',\n",
        "    factor=0.2,\n",
        "    patience=2,\n",
        "    verbose=1,\n",
        "    mode='auto',\n",
        "    epsilon=0.0001,\n",
        "    cooldown=2,\n",
        "    min_lr=0)\n",
        "\n",
        "eary_stopping = callbacks.EarlyStopping(\n",
        "    monitor='val_loss',\n",
        "    min_delta=0,\n",
        "    patience=7,\n",
        "    verbose=1,\n",
        "    mode='auto')\n",
        "\n",
        "callbacks = [reduce_learning, eary_stopping]"
      ],
      "metadata": {
        "id": "RIbAXenmnvg6",
        "colab": {
          "base_uri": "https://localhost:8080/"
        },
        "outputId": "93ebef1e-d590-467c-a459-439709721b65"
      },
      "execution_count": 34,
      "outputs": [
        {
          "output_type": "stream",
          "name": "stderr",
          "text": [
            "WARNING:tensorflow:`epsilon` argument is deprecated and will be removed, use `min_delta` instead.\n"
          ]
        }
      ]
    },
    {
      "cell_type": "code",
      "source": [
        "# Train the Model\n",
        "history = model.fit(\n",
        "    train_features_flat,\n",
        "    train_label,\n",
        "    epochs=NB_EPOCHS,\n",
        "    validation_data=(val_features_flat, valid_label),\n",
        "    callbacks=callbacks\n",
        ")"
      ],
      "metadata": {
        "id": "R0lSRhFanwiA",
        "colab": {
          "base_uri": "https://localhost:8080/"
        },
        "outputId": "0930d4a9-2f23-46c4-c499-3917234d1eed"
      },
      "execution_count": 35,
      "outputs": [
        {
          "output_type": "stream",
          "name": "stdout",
          "text": [
            "Epoch 1/100\n",
            "1500/1500 [==============================] - 12s 7ms/step - loss: 1.5549 - acc: 0.4270 - val_loss: 1.3271 - val_acc: 0.5058 - lr: 0.0010\n",
            "Epoch 2/100\n",
            "1500/1500 [==============================] - 9s 6ms/step - loss: 1.1912 - acc: 0.5545 - val_loss: 1.1439 - val_acc: 0.5583 - lr: 0.0010\n",
            "Epoch 3/100\n",
            "1500/1500 [==============================] - 9s 6ms/step - loss: 1.0794 - acc: 0.5972 - val_loss: 1.0024 - val_acc: 0.6486 - lr: 0.0010\n",
            "Epoch 4/100\n",
            "1500/1500 [==============================] - 10s 7ms/step - loss: 1.0166 - acc: 0.6231 - val_loss: 1.0729 - val_acc: 0.6097 - lr: 0.0010\n",
            "Epoch 5/100\n",
            "1498/1500 [============================>.] - ETA: 0s - loss: 0.9728 - acc: 0.6411\n",
            "Epoch 5: ReduceLROnPlateau reducing learning rate to 0.00020000000949949026.\n",
            "1500/1500 [==============================] - 10s 7ms/step - loss: 0.9728 - acc: 0.6411 - val_loss: 1.0036 - val_acc: 0.6289 - lr: 0.0010\n",
            "Epoch 6/100\n",
            "1500/1500 [==============================] - 11s 7ms/step - loss: 0.8802 - acc: 0.6831 - val_loss: 0.8704 - val_acc: 0.6883 - lr: 2.0000e-04\n",
            "Epoch 7/100\n",
            "1500/1500 [==============================] - 10s 6ms/step - loss: 0.8671 - acc: 0.6863 - val_loss: 0.8579 - val_acc: 0.6914 - lr: 2.0000e-04\n",
            "Epoch 8/100\n",
            "1500/1500 [==============================] - 11s 8ms/step - loss: 0.8557 - acc: 0.6911 - val_loss: 0.8484 - val_acc: 0.6956 - lr: 2.0000e-04\n",
            "Epoch 9/100\n",
            "1500/1500 [==============================] - 9s 6ms/step - loss: 0.8473 - acc: 0.6919 - val_loss: 0.8416 - val_acc: 0.6963 - lr: 2.0000e-04\n",
            "Epoch 10/100\n",
            "1500/1500 [==============================] - 9s 6ms/step - loss: 0.8377 - acc: 0.6963 - val_loss: 0.8496 - val_acc: 0.6955 - lr: 2.0000e-04\n",
            "Epoch 11/100\n",
            "1500/1500 [==============================] - 9s 6ms/step - loss: 0.8309 - acc: 0.6989 - val_loss: 0.8260 - val_acc: 0.7054 - lr: 2.0000e-04\n",
            "Epoch 12/100\n",
            "1500/1500 [==============================] - 11s 7ms/step - loss: 0.8253 - acc: 0.7004 - val_loss: 0.8343 - val_acc: 0.7022 - lr: 2.0000e-04\n",
            "Epoch 13/100\n",
            "1500/1500 [==============================] - ETA: 0s - loss: 0.8164 - acc: 0.7016\n",
            "Epoch 13: ReduceLROnPlateau reducing learning rate to 4.0000001899898055e-05.\n",
            "1500/1500 [==============================] - 10s 7ms/step - loss: 0.8164 - acc: 0.7016 - val_loss: 0.8267 - val_acc: 0.6971 - lr: 2.0000e-04\n",
            "Epoch 14/100\n",
            "1500/1500 [==============================] - 9s 6ms/step - loss: 0.7939 - acc: 0.7124 - val_loss: 0.7999 - val_acc: 0.7107 - lr: 4.0000e-05\n",
            "Epoch 15/100\n",
            "1500/1500 [==============================] - 9s 6ms/step - loss: 0.7919 - acc: 0.7146 - val_loss: 0.7975 - val_acc: 0.7143 - lr: 4.0000e-05\n",
            "Epoch 16/100\n",
            "1500/1500 [==============================] - 10s 7ms/step - loss: 0.7904 - acc: 0.7148 - val_loss: 0.7960 - val_acc: 0.7136 - lr: 4.0000e-05\n",
            "Epoch 17/100\n",
            "1500/1500 [==============================] - 10s 7ms/step - loss: 0.7892 - acc: 0.7145 - val_loss: 0.7952 - val_acc: 0.7125 - lr: 4.0000e-05\n",
            "Epoch 18/100\n",
            "1500/1500 [==============================] - 9s 6ms/step - loss: 0.7878 - acc: 0.7159 - val_loss: 0.7925 - val_acc: 0.7145 - lr: 4.0000e-05\n",
            "Epoch 19/100\n",
            "1500/1500 [==============================] - 11s 7ms/step - loss: 0.7865 - acc: 0.7162 - val_loss: 0.7895 - val_acc: 0.7158 - lr: 4.0000e-05\n",
            "Epoch 20/100\n",
            "1500/1500 [==============================] - 10s 6ms/step - loss: 0.7853 - acc: 0.7156 - val_loss: 0.7908 - val_acc: 0.7163 - lr: 4.0000e-05\n",
            "Epoch 21/100\n",
            "1498/1500 [============================>.] - ETA: 0s - loss: 0.7833 - acc: 0.7163\n",
            "Epoch 21: ReduceLROnPlateau reducing learning rate to 8.000000525498762e-06.\n",
            "1500/1500 [==============================] - 10s 7ms/step - loss: 0.7833 - acc: 0.7163 - val_loss: 0.7926 - val_acc: 0.7161 - lr: 4.0000e-05\n",
            "Epoch 22/100\n",
            "1500/1500 [==============================] - 9s 6ms/step - loss: 0.7783 - acc: 0.7189 - val_loss: 0.7852 - val_acc: 0.7173 - lr: 8.0000e-06\n",
            "Epoch 23/100\n",
            "1500/1500 [==============================] - 10s 7ms/step - loss: 0.7777 - acc: 0.7198 - val_loss: 0.7841 - val_acc: 0.7166 - lr: 8.0000e-06\n",
            "Epoch 24/100\n",
            "1500/1500 [==============================] - 10s 6ms/step - loss: 0.7774 - acc: 0.7197 - val_loss: 0.7845 - val_acc: 0.7168 - lr: 8.0000e-06\n",
            "Epoch 25/100\n",
            "1500/1500 [==============================] - 9s 6ms/step - loss: 0.7772 - acc: 0.7185 - val_loss: 0.7836 - val_acc: 0.7183 - lr: 8.0000e-06\n",
            "Epoch 26/100\n",
            "1500/1500 [==============================] - 9s 6ms/step - loss: 0.7769 - acc: 0.7191 - val_loss: 0.7832 - val_acc: 0.7178 - lr: 8.0000e-06\n",
            "Epoch 27/100\n",
            "1500/1500 [==============================] - 9s 6ms/step - loss: 0.7763 - acc: 0.7196 - val_loss: 0.7844 - val_acc: 0.7172 - lr: 8.0000e-06\n",
            "Epoch 28/100\n",
            "1497/1500 [============================>.] - ETA: 0s - loss: 0.7763 - acc: 0.7191\n",
            "Epoch 28: ReduceLROnPlateau reducing learning rate to 1.6000001778593287e-06.\n",
            "1500/1500 [==============================] - 9s 6ms/step - loss: 0.7764 - acc: 0.7190 - val_loss: 0.7839 - val_acc: 0.7174 - lr: 8.0000e-06\n",
            "Epoch 29/100\n",
            "1500/1500 [==============================] - 10s 6ms/step - loss: 0.7751 - acc: 0.7200 - val_loss: 0.7826 - val_acc: 0.7170 - lr: 1.6000e-06\n",
            "Epoch 30/100\n",
            "1500/1500 [==============================] - 10s 7ms/step - loss: 0.7750 - acc: 0.7202 - val_loss: 0.7826 - val_acc: 0.7171 - lr: 1.6000e-06\n",
            "Epoch 31/100\n",
            "1492/1500 [============================>.] - ETA: 0s - loss: 0.7748 - acc: 0.7199\n",
            "Epoch 31: ReduceLROnPlateau reducing learning rate to 3.200000264769187e-07.\n",
            "1500/1500 [==============================] - 9s 6ms/step - loss: 0.7749 - acc: 0.7197 - val_loss: 0.7827 - val_acc: 0.7175 - lr: 1.6000e-06\n",
            "Epoch 32/100\n",
            "1500/1500 [==============================] - 9s 6ms/step - loss: 0.7747 - acc: 0.7203 - val_loss: 0.7824 - val_acc: 0.7170 - lr: 3.2000e-07\n",
            "Epoch 33/100\n",
            "1500/1500 [==============================] - 9s 6ms/step - loss: 0.7747 - acc: 0.7201 - val_loss: 0.7823 - val_acc: 0.7168 - lr: 3.2000e-07\n",
            "Epoch 34/100\n",
            "1500/1500 [==============================] - 10s 7ms/step - loss: 0.7747 - acc: 0.7199 - val_loss: 0.7823 - val_acc: 0.7172 - lr: 3.2000e-07\n",
            "Epoch 35/100\n",
            "1500/1500 [==============================] - 10s 7ms/step - loss: 0.7746 - acc: 0.7202 - val_loss: 0.7823 - val_acc: 0.7168 - lr: 3.2000e-07\n",
            "Epoch 36/100\n",
            "1495/1500 [============================>.] - ETA: 0s - loss: 0.7744 - acc: 0.7204\n",
            "Epoch 36: ReduceLROnPlateau reducing learning rate to 6.400000529538374e-08.\n",
            "1500/1500 [==============================] - 9s 6ms/step - loss: 0.7746 - acc: 0.7203 - val_loss: 0.7823 - val_acc: 0.7170 - lr: 3.2000e-07\n",
            "Epoch 37/100\n",
            "1500/1500 [==============================] - 10s 7ms/step - loss: 0.7746 - acc: 0.7200 - val_loss: 0.7823 - val_acc: 0.7170 - lr: 6.4000e-08\n",
            "Epoch 38/100\n",
            "1500/1500 [==============================] - 10s 7ms/step - loss: 0.7745 - acc: 0.7201 - val_loss: 0.7823 - val_acc: 0.7172 - lr: 6.4000e-08\n",
            "Epoch 39/100\n",
            "1500/1500 [==============================] - ETA: 0s - loss: 0.7745 - acc: 0.7201\n",
            "Epoch 39: ReduceLROnPlateau reducing learning rate to 1.2800001059076749e-08.\n",
            "1500/1500 [==============================] - 9s 6ms/step - loss: 0.7745 - acc: 0.7201 - val_loss: 0.7823 - val_acc: 0.7170 - lr: 6.4000e-08\n",
            "Epoch 40/100\n",
            "1500/1500 [==============================] - 10s 6ms/step - loss: 0.7745 - acc: 0.7200 - val_loss: 0.7823 - val_acc: 0.7171 - lr: 1.2800e-08\n",
            "Epoch 41/100\n",
            "1500/1500 [==============================] - 10s 7ms/step - loss: 0.7745 - acc: 0.7201 - val_loss: 0.7823 - val_acc: 0.7170 - lr: 1.2800e-08\n",
            "Epoch 42/100\n",
            "1494/1500 [============================>.] - ETA: 0s - loss: 0.7745 - acc: 0.7200\n",
            "Epoch 42: ReduceLROnPlateau reducing learning rate to 2.5600002118153498e-09.\n",
            "1500/1500 [==============================] - 10s 6ms/step - loss: 0.7745 - acc: 0.7200 - val_loss: 0.7823 - val_acc: 0.7170 - lr: 1.2800e-08\n",
            "Epoch 43/100\n",
            "1500/1500 [==============================] - 10s 6ms/step - loss: 0.7745 - acc: 0.7200 - val_loss: 0.7823 - val_acc: 0.7170 - lr: 2.5600e-09\n",
            "Epoch 43: early stopping\n"
          ]
        }
      ]
    },
    {
      "cell_type": "code",
      "source": [
        "acc = history.history['acc']\n",
        "val_acc = history.history['val_acc']\n",
        "loss = history.history['loss']\n",
        "val_loss = history.history['val_loss']\n",
        "epochs = range(1, len(acc) + 1)\n",
        "\n",
        "plt.title('Training and validation accuracy')\n",
        "plt.plot(epochs, acc, 'green', label='Training acc')\n",
        "plt.plot(epochs, val_acc, 'blue', label='Validation acc')\n",
        "plt.legend()\n",
        "\n",
        "plt.figure()\n",
        "plt.title('Training and validation loss')\n",
        "plt.plot(epochs, loss, 'green', label='Training loss')\n",
        "plt.plot(epochs, val_loss, 'blue', label='Validation loss')\n",
        "\n",
        "plt.legend()\n",
        "\n",
        "plt.show()"
      ],
      "metadata": {
        "id": "JVXxTGFvn1Z8",
        "colab": {
          "base_uri": "https://localhost:8080/",
          "height": 887
        },
        "outputId": "58bc4b41-4bad-4dde-8923-1298e4925423"
      },
      "execution_count": 36,
      "outputs": [
        {
          "output_type": "display_data",
          "data": {
            "text/plain": [
              "<Figure size 640x480 with 1 Axes>"
            ],
            "image/png": "[encoded data removed]"
          },
          "metadata": {}
        },
        {
          "output_type": "display_data",
          "data": {
            "text/plain": [
              "<Figure size 640x480 with 1 Axes>"
            ],
            "image/png": "[encoded data removed]"
          },
          "metadata": {}
        }
      ]
    },
    {
      "cell_type": "code",
      "source": [],
      "metadata": {
        "id": "m5AddgPLz4-L"
      },
      "execution_count": null,
      "outputs": []
    }
  ]
}