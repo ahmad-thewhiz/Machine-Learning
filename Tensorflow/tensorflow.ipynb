{
 "cells": [
  {
   "attachments": {},
   "cell_type": "markdown",
   "metadata": {},
   "source": [
    "# Tensorflow - Basics"
   ]
  },
  {
   "attachments": {},
   "cell_type": "markdown",
   "metadata": {},
   "source": [
    "Tensor is a multi-dimensional array with the ability to run on GPU. \n",
    "* Vector is a 1D tensor while matrix is a 2D tensor."
   ]
  },
  {
   "attachments": {},
   "cell_type": "markdown",
   "metadata": {},
   "source": [
    "#### Content\n",
    "1. Initializing a Tensor\n",
    "2. Mathematical Opertations\n",
    "3. Indexing\n",
    "4. Reshaping"
   ]
  },
  {
   "cell_type": "code",
   "execution_count": 7,
   "metadata": {},
   "outputs": [],
   "source": [
    "import os\n",
    "os.environ['TF_CPP_MIN_LOG_LEVEL'] = '2'"
   ]
  },
  {
   "cell_type": "code",
   "execution_count": 8,
   "metadata": {},
   "outputs": [],
   "source": [
    "import tensorflow as tf"
   ]
  },
  {
   "cell_type": "code",
   "execution_count": 9,
   "metadata": {},
   "outputs": [
    {
     "data": {
      "text/plain": [
       "'2.13.0'"
      ]
     },
     "execution_count": 9,
     "metadata": {},
     "output_type": "execute_result"
    }
   ],
   "source": [
    "tf.__version__"
   ]
  },
  {
   "attachments": {},
   "cell_type": "markdown",
   "metadata": {},
   "source": [
    "1. Initializing"
   ]
  },
  {
   "cell_type": "code",
   "execution_count": 10,
   "metadata": {},
   "outputs": [
    {
     "name": "stdout",
     "output_type": "stream",
     "text": [
      "tf.Tensor([[4.]], shape=(1, 1), dtype=float32)\n"
     ]
    }
   ],
   "source": [
    "x = tf.constant(4, shape = (1,1), dtype = tf.float32)\n",
    "print(x)\n",
    "\n",
    "# constant = it creates a constant tensor"
   ]
  },
  {
   "cell_type": "code",
   "execution_count": 11,
   "metadata": {},
   "outputs": [
    {
     "name": "stdout",
     "output_type": "stream",
     "text": [
      "tf.Tensor(\n",
      "[[1. 2.]\n",
      " [3. 1.]\n",
      " [4. 9.]], shape=(3, 2), dtype=float32)\n"
     ]
    }
   ],
   "source": [
    "y = tf.constant([[1,2,3],[1,4,9]], shape = (3,2), dtype=tf.float32)\n",
    "print(y)"
   ]
  },
  {
   "cell_type": "code",
   "execution_count": 12,
   "metadata": {},
   "outputs": [
    {
     "name": "stdout",
     "output_type": "stream",
     "text": [
      "tf.Tensor(\n",
      "[[1. 1. 1.]\n",
      " [1. 1. 1.]\n",
      " [1. 1. 1.]], shape=(3, 3), dtype=float32)\n"
     ]
    }
   ],
   "source": [
    "z = tf.ones((3,3))\n",
    "print(z)"
   ]
  },
  {
   "cell_type": "code",
   "execution_count": 13,
   "metadata": {},
   "outputs": [
    {
     "name": "stdout",
     "output_type": "stream",
     "text": [
      "tf.Tensor(\n",
      "[[1 0 0]\n",
      " [0 1 0]\n",
      " [0 0 1]], shape=(3, 3), dtype=int32)\n"
     ]
    }
   ],
   "source": [
    "I = tf.eye(3, dtype=tf.int32) #3x3 Identity Matrix\n",
    "print(I)"
   ]
  },
  {
   "cell_type": "code",
   "execution_count": 14,
   "metadata": {},
   "outputs": [
    {
     "name": "stdout",
     "output_type": "stream",
     "text": [
      "tf.Tensor(\n",
      "[[[13.12718   12.471907  13.930555  10.835753 ]\n",
      "  [11.5335455 10.951491   9.173485   8.482625 ]\n",
      "  [12.417412  10.882833  11.517947   9.440398 ]]\n",
      "\n",
      " [[10.715746  12.254726  13.517234  10.355448 ]\n",
      "  [ 6.4330626 13.328953  10.438376   9.978434 ]\n",
      "  [ 8.817421   8.51981    7.075349   8.783249 ]]], shape=(2, 3, 4), dtype=float32)\n"
     ]
    }
   ],
   "source": [
    "a = tf.random.normal((2,3,4), mean=10, stddev = 2)\n",
    "print(a)\n",
    "\n",
    "# 2x3x4 matrix with random values satisfying the mean and standard deviation conditions\n",
    "# It generates random numbers from a normal (Gaussian) distribution"
   ]
  },
  {
   "cell_type": "code",
   "execution_count": 15,
   "metadata": {},
   "outputs": [
    {
     "name": "stdout",
     "output_type": "stream",
     "text": [
      "tf.Tensor(\n",
      "[[[14.880133 13.516994 13.347633 13.376392]\n",
      "  [14.355269 14.918613 13.71964  14.242519]\n",
      "  [14.14897  14.704    14.701882 13.006413]]\n",
      "\n",
      " [[14.617872 14.576204 13.949249 13.833039]\n",
      "  [13.016829 14.662282 13.284806 13.301938]\n",
      "  [13.807469 13.398827 13.440346 14.817137]]], shape=(2, 3, 4), dtype=float32)\n"
     ]
    }
   ],
   "source": [
    "b = tf.random.uniform((2,3,4), minval=13, maxval=15)\n",
    "print(b)\n",
    "\n",
    "# 2x3x4 matrix with random uniform values satisfying the min and max conditions\n",
    "# It generates random numbers from a uniform distribution."
   ]
  },
  {
   "cell_type": "code",
   "execution_count": 16,
   "metadata": {},
   "outputs": [
    {
     "name": "stdout",
     "output_type": "stream",
     "text": [
      "tf.Tensor([ 4  8 12 16], shape=(4,), dtype=int32)\n"
     ]
    }
   ],
   "source": [
    "c = tf.range(start=4, limit = 20, delta=4)\n",
    "print(c)"
   ]
  },
  {
   "cell_type": "code",
   "execution_count": 17,
   "metadata": {},
   "outputs": [
    {
     "name": "stdout",
     "output_type": "stream",
     "text": [
      "tf.Tensor([ 4.  8. 12. 16.], shape=(4,), dtype=float64)\n"
     ]
    }
   ],
   "source": [
    "d = tf.cast(c, dtype=tf.float64)\n",
    "print(d)\n",
    "#tf.float - 16,32,64\n",
    "#tf.int - 8,16,32,64\n",
    "#tf.bool"
   ]
  },
  {
   "attachments": {},
   "cell_type": "markdown",
   "metadata": {},
   "source": [
    "In TensorFlow, tf.reduce_sum and tf.math.reduce_sum are functions used to compute the sum of tensor elements along specified axes, while tf.math.sum is used to compute the sum of tensor elements without any axis specification."
   ]
  },
  {
   "cell_type": "code",
   "execution_count": 18,
   "metadata": {},
   "outputs": [
    {
     "name": "stdout",
     "output_type": "stream",
     "text": [
      "Sum of all elements: 20\n",
      "Sum along rows: [ 2  6 12]\n",
      "Sum along columns: [ 6 14]\n",
      "Mean of all elements: 3.5\n",
      "Mean along rows: [2.5 3.5 4.5]\n",
      "Mean along columns: [2. 5.]\n"
     ]
    }
   ],
   "source": [
    "import numpy as np\n",
    "\n",
    "# Create a tensor\n",
    "tensor = tf.constant([[1, 2, 3], [1, 4, 9]])\n",
    "\n",
    "# Compute the sum of all elements in the tensor\n",
    "sum_all = tf.reduce_sum(tensor)\n",
    "print(\"Sum of all elements:\", sum_all.numpy())\n",
    "\n",
    "# Compute the sum along the rows (axis=0)\n",
    "sum_rows = tf.reduce_sum(tensor, axis=0)\n",
    "print(\"Sum along rows:\", sum_rows.numpy())\n",
    "\n",
    "# Compute the sum along the columns (axis=1)\n",
    "sum_cols = tf.reduce_sum(tensor, axis=1)\n",
    "print(\"Sum along columns:\", sum_cols.numpy())\n",
    "\n",
    "# Create another tensor\n",
    "tensor2 = tf.constant([[1.0, 2.0, 3.0], [4.0, 5.0, 6.0]])\n",
    "\n",
    "# Compute the mean of all elements in the tensor\n",
    "mean_all = tf.reduce_mean(tensor2)\n",
    "print(\"Mean of all elements:\", mean_all.numpy())\n",
    "\n",
    "# Compute the mean along the rows (axis=0)\n",
    "mean_rows = tf.reduce_mean(tensor2, axis=0)\n",
    "print(\"Mean along rows:\", mean_rows.numpy())\n",
    "\n",
    "# Compute the mean along the columns (axis=1)\n",
    "mean_cols = tf.reduce_mean(tensor2, axis=1)\n",
    "print(\"Mean along columns:\", mean_cols.numpy())\n"
   ]
  },
  {
   "attachments": {},
   "cell_type": "markdown",
   "metadata": {},
   "source": [
    "2. Mathmatical Operations"
   ]
  },
  {
   "cell_type": "code",
   "execution_count": 19,
   "metadata": {},
   "outputs": [],
   "source": [
    "x = tf.constant([1,4,9])\n",
    "y = tf.constant([1,16,81])"
   ]
  },
  {
   "cell_type": "code",
   "execution_count": 20,
   "metadata": {},
   "outputs": [
    {
     "name": "stdout",
     "output_type": "stream",
     "text": [
      "tf.Tensor([ 2 20 90], shape=(3,), dtype=int32)\n"
     ]
    }
   ],
   "source": [
    "z = tf.add(x,y)\n",
    "# or z = x+y\n",
    "print(z)"
   ]
  },
  {
   "cell_type": "code",
   "execution_count": 21,
   "metadata": {},
   "outputs": [
    {
     "name": "stdout",
     "output_type": "stream",
     "text": [
      "tf.Tensor([  0 -12 -72], shape=(3,), dtype=int32)\n"
     ]
    }
   ],
   "source": [
    "z = tf.subtract(x,y)\n",
    "# or z = x-y\n",
    "print(z)"
   ]
  },
  {
   "cell_type": "code",
   "execution_count": 22,
   "metadata": {},
   "outputs": [
    {
     "name": "stdout",
     "output_type": "stream",
     "text": [
      "tf.Tensor([1. 4. 9.], shape=(3,), dtype=float64)\n"
     ]
    }
   ],
   "source": [
    "z = tf.divide(y, x)\n",
    "# or z = y/x\n",
    "print(z)"
   ]
  },
  {
   "cell_type": "code",
   "execution_count": 23,
   "metadata": {},
   "outputs": [
    {
     "name": "stdout",
     "output_type": "stream",
     "text": [
      "tf.Tensor([  1  64 729], shape=(3,), dtype=int32)\n"
     ]
    }
   ],
   "source": [
    "z = tf.multiply(x, y)\n",
    "# or z  = x*y\n",
    "print(z)"
   ]
  },
  {
   "cell_type": "code",
   "execution_count": 24,
   "metadata": {},
   "outputs": [
    {
     "name": "stdout",
     "output_type": "stream",
     "text": [
      "tf.Tensor(794, shape=(), dtype=int32)\n"
     ]
    }
   ],
   "source": [
    "z = tf.tensordot(x, y, axes=1)\n",
    "print(z)\n",
    "\n",
    "# or z = tf.reduce_sum(x*y, axis=0)\n",
    "# dot product- element wise multiplication and then summation"
   ]
  },
  {
   "cell_type": "code",
   "execution_count": 25,
   "metadata": {},
   "outputs": [
    {
     "name": "stdout",
     "output_type": "stream",
     "text": [
      "tf.Tensor([    1  1024 59049], shape=(3,), dtype=int32)\n"
     ]
    }
   ],
   "source": [
    "z = x ** 5\n",
    "print(z)\n",
    "\n",
    "# z = x^5"
   ]
  },
  {
   "cell_type": "code",
   "execution_count": 26,
   "metadata": {},
   "outputs": [
    {
     "name": "stdout",
     "output_type": "stream",
     "text": [
      "tf.Tensor(\n",
      "[[ 0.55663544  0.29739365 -0.07215602 -0.12179293]\n",
      " [ 1.0775707  -0.5615735   1.2684621  -3.6024323 ]], shape=(2, 4), dtype=float32)\n",
      "tf.Tensor(\n",
      "[[ 0.55663544  0.29739365 -0.07215602 -0.12179293]\n",
      " [ 1.0775707  -0.5615735   1.2684621  -3.6024323 ]], shape=(2, 4), dtype=float32)\n"
     ]
    }
   ],
   "source": [
    "r1 = tf.random.normal((2,3))\n",
    "r2 = tf.random.normal((3,4))\n",
    "\n",
    "z = tf.matmul(r1,r2)\n",
    "print(z)\n",
    "\n",
    "# or\n",
    "\n",
    "z = r1 @ r2\n",
    "print(z)\n",
    "\n",
    "# matrix multiplication"
   ]
  },
  {
   "cell_type": "code",
   "execution_count": 27,
   "metadata": {},
   "outputs": [
    {
     "name": "stdout",
     "output_type": "stream",
     "text": [
      "tf.Tensor(\n",
      "[[-2.0000000e+00  1.0000000e+00 -1.9868216e-08]\n",
      " [ 1.6666669e-01 -1.6666669e-01  1.6666669e-01]\n",
      " [ 8.8888890e-01 -2.2222222e-01 -1.1111111e-01]], shape=(3, 3), dtype=float32)\n"
     ]
    }
   ],
   "source": [
    "mat = tf.constant([[1,2,3],[3,4,6],[2,8,3]], dtype=tf.float32)\n",
    "temp_inv = tf.linalg.inv(mat)\n",
    "print(temp_inv)"
   ]
  },
  {
   "attachments": {},
   "cell_type": "markdown",
   "metadata": {},
   "source": [
    "Functions"
   ]
  },
  {
   "cell_type": "code",
   "execution_count": 28,
   "metadata": {},
   "outputs": [
    {
     "name": "stdout",
     "output_type": "stream",
     "text": [
      "Input tensor:  [ 1. -4. 64.]\n",
      "Element-wise exponential:  [2.7182817e+00 1.8315639e-02 6.2351488e+27]\n",
      "Element-wise logarithm:  [0.            nan 4.158883]\n",
      "Element-wise sine:  [0.84147096 0.7568025  0.92002606]\n",
      "Element-wise cosine:  [ 0.5403023  -0.6536436   0.39185724]\n",
      "Element-wise tangent:  [ 1.5574077 -1.1578213  2.3478603]\n",
      "Element-wise square:  [1.000e+00 1.600e+01 4.096e+03]\n",
      "Element-wise square root:  [ 1. nan  8.]\n",
      "Element-wise absolute value:  [ 1.  4. 64.]\n",
      "Element-wise sign:  [ 1. -1.  1.]\n"
     ]
    }
   ],
   "source": [
    "# Create a tensor\n",
    "x = tf.constant([1.0, -4.0, 64.0])\n",
    "\n",
    "# Compute element-wise exponential and logarithm\n",
    "exp_x = tf.math.exp(x)\n",
    "log_x = tf.math.log(x)\n",
    "\n",
    "# Compute element-wise trigonometric functions\n",
    "sin_x = tf.math.sin(x)\n",
    "cos_x = tf.math.cos(x)\n",
    "tan_x = tf.math.tan(x)\n",
    "\n",
    "# Compute element-wise square and square root\n",
    "square_x = tf.math.square(x)\n",
    "sqrt_x = tf.math.sqrt(x)\n",
    "\n",
    "# Compute element-wise absolute value and sign\n",
    "abs_x = tf.math.abs(x)\n",
    "sign_x = tf.math.sign(x)\n",
    "\n",
    "# Print the results\n",
    "print(\"Input tensor: \", x.numpy())\n",
    "print(\"Element-wise exponential: \", exp_x.numpy())\n",
    "print(\"Element-wise logarithm: \", log_x.numpy())\n",
    "print(\"Element-wise sine: \", sin_x.numpy())\n",
    "print(\"Element-wise cosine: \", cos_x.numpy())\n",
    "print(\"Element-wise tangent: \", tan_x.numpy())\n",
    "print(\"Element-wise square: \", square_x.numpy())\n",
    "print(\"Element-wise square root: \", sqrt_x.numpy())\n",
    "print(\"Element-wise absolute value: \", abs_x.numpy())\n",
    "print(\"Element-wise sign: \", sign_x.numpy())"
   ]
  },
  {
   "cell_type": "code",
   "execution_count": 29,
   "metadata": {},
   "outputs": [
    {
     "name": "stdout",
     "output_type": "stream",
     "text": [
      "Original tensor:\n",
      " [[1 2 3]\n",
      " [4 5 6]\n",
      " [7 8 9]]\n",
      "Gathered slices along axis 0:\n",
      " [[1 2 3]\n",
      " [7 8 9]]\n",
      "Gathered slices along axis 1:\n",
      " [[2 3]\n",
      " [5 6]\n",
      " [8 9]]\n",
      "Original tensor:\n",
      " [[1 2 3]\n",
      " [4 5 6]\n",
      " [7 8 9]]\n",
      "Masked tensor:\n",
      " [[1 2 3]\n",
      " [7 8 9]]\n"
     ]
    }
   ],
   "source": [
    "# Create a tensor\n",
    "tensor = tf.constant([[1, 2, 3],\n",
    "                      [4, 5, 6],\n",
    "                      [7, 8, 9]])\n",
    "\n",
    "# Use tf.gather to gather slices along a specified axis\n",
    "gathered_axis0 = tf.gather(tensor, [0, 2], axis=0)\n",
    "gathered_axis1 = tf.gather(tensor, [1, 2], axis=1)\n",
    "\n",
    "print(\"Original tensor:\\n\", tensor.numpy())\n",
    "print(\"Gathered slices along axis 0:\\n\", gathered_axis0.numpy())\n",
    "print(\"Gathered slices along axis 1:\\n\", gathered_axis1.numpy())\n",
    "\n",
    "# Create a boolean condition mask\n",
    "mask = tf.constant([True, False, True])\n",
    "\n",
    "# Use tf.boolean_mask to mask the tensor\n",
    "masked_tensor = tf.boolean_mask(tensor, mask)\n",
    "\n",
    "print(\"Original tensor:\\n\", tensor.numpy())\n",
    "print(\"Masked tensor:\\n\", masked_tensor.numpy())\n"
   ]
  },
  {
   "cell_type": "code",
   "execution_count": 30,
   "metadata": {},
   "outputs": [
    {
     "name": "stdout",
     "output_type": "stream",
     "text": [
      "Concatenated tensor:\n",
      "[[ 1  2  3]\n",
      " [ 4  5  6]\n",
      " [ 7  8  9]\n",
      " [10 11 12]]\n",
      "Stacked tensor:\n",
      "[[[ 1  2  3]\n",
      "  [ 4  5  6]]\n",
      "\n",
      " [[ 7  8  9]\n",
      "  [10 11 12]]\n",
      "\n",
      " [[13 14 15]\n",
      "  [16 17 18]]]\n",
      "Split tensors:\n",
      "[[1 2 3]]\n",
      "[[4 5 6]]\n",
      "[[7 8 9]]\n",
      "[[10 11 12]]\n",
      "Minimum values:\n",
      "[1 2 3]\n",
      "Maximum values:\n",
      "[ 3  6  9 12]\n",
      "Product of tensor elements:\n",
      "[   6  120  504 1320]\n",
      "Any elements greater than 10:\n",
      "[False False False  True]\n",
      "All elements greater than 5:\n",
      "[False False False]\n",
      "Top 2 values:\n",
      "[[ 3  2]\n",
      " [ 6  5]\n",
      " [ 9  8]\n",
      " [12 11]]\n",
      "Indices of top 2 values:\n",
      "[[2 1]\n",
      " [2 1]\n",
      " [2 1]\n",
      " [2 1]]\n"
     ]
    }
   ],
   "source": [
    "# Concatenating tensors along a specified axis\n",
    "tensor1 = tf.constant([[1, 2, 3], [4, 5, 6]])\n",
    "tensor2 = tf.constant([[7, 8, 9], [10, 11, 12]])\n",
    "concatenated_tensor = tf.concat([tensor1, tensor2], axis=0)\n",
    "print(\"Concatenated tensor:\")\n",
    "print(concatenated_tensor.numpy())\n",
    "\n",
    "# Stacking tensors along a specified axis\n",
    "tensor3 = tf.constant([[13, 14, 15], [16, 17, 18]])\n",
    "stacked_tensor = tf.stack([tensor1, tensor2, tensor3], axis=0)\n",
    "print(\"Stacked tensor:\")\n",
    "print(stacked_tensor.numpy())\n",
    "\n",
    "# Splitting a tensor into multiple tensors along a specified axis\n",
    "split_tensors = tf.split(concatenated_tensor, num_or_size_splits=4, axis=0)\n",
    "print(\"Split tensors:\")\n",
    "for tensor in split_tensors:\n",
    "    print(tensor.numpy())\n",
    "\n",
    "# Computing the minimum and maximum values along specified axes\n",
    "min_value = tf.reduce_min(concatenated_tensor, axis=0)\n",
    "max_value = tf.reduce_max(concatenated_tensor, axis=1)\n",
    "print(\"Minimum values:\")\n",
    "print(min_value.numpy())\n",
    "print(\"Maximum values:\")\n",
    "print(max_value.numpy())\n",
    "\n",
    "# Computing the product of tensor elements along specified axes\n",
    "product = tf.reduce_prod(concatenated_tensor, axis=1)\n",
    "print(\"Product of tensor elements:\")\n",
    "print(product.numpy())\n",
    "\n",
    "# Checking if any or all elements along specified axes satisfy a condition\n",
    "any_elements_gt_10 = tf.reduce_any(concatenated_tensor > 10, axis=1)\n",
    "all_elements_gt_5 = tf.reduce_all(concatenated_tensor > 5, axis=0)\n",
    "print(\"Any elements greater than 10:\")\n",
    "print(any_elements_gt_10.numpy())\n",
    "print(\"All elements greater than 5:\")\n",
    "print(all_elements_gt_5.numpy())\n",
    "\n",
    "# Finding the k largest or smallest values and indices in a tensor\n",
    "values, indices = tf.math.top_k(concatenated_tensor, k=2)\n",
    "print(\"Top 2 values:\")\n",
    "print(values.numpy())\n",
    "print(\"Indices of top 2 values:\")\n",
    "print(indices.numpy())\n"
   ]
  },
  {
   "attachments": {},
   "cell_type": "markdown",
   "metadata": {},
   "source": [
    "3. Indexing"
   ]
  },
  {
   "cell_type": "code",
   "execution_count": 31,
   "metadata": {},
   "outputs": [
    {
     "name": "stdout",
     "output_type": "stream",
     "text": [
      "tf.Tensor([ 3  5  8 13], shape=(4,), dtype=int32)\n",
      "tf.Tensor([ 0  1  3  8 21], shape=(5,), dtype=int32)\n"
     ]
    }
   ],
   "source": [
    "temp = tf.constant([0,1,1,2,3,5,8,13,21,34])\n",
    "print(temp[4:8]) #print in range\n",
    "print(temp[::2]) #print with custom step size"
   ]
  },
  {
   "cell_type": "code",
   "execution_count": 32,
   "metadata": {},
   "outputs": [
    {
     "name": "stdout",
     "output_type": "stream",
     "text": [
      "tf.Tensor([34 21 13  8  5  3  2  1  1  0], shape=(10,), dtype=int32)\n"
     ]
    }
   ],
   "source": [
    "print(temp[::-1])\n",
    "#reverse"
   ]
  },
  {
   "cell_type": "code",
   "execution_count": 33,
   "metadata": {},
   "outputs": [
    {
     "name": "stdout",
     "output_type": "stream",
     "text": [
      "tf.Tensor([1 3 8], shape=(3,), dtype=int32)\n"
     ]
    }
   ],
   "source": [
    "indices = tf.constant([1, 4, 6])\n",
    "x_ind = tf.gather(temp, indices)\n",
    "print(x_ind)"
   ]
  },
  {
   "cell_type": "code",
   "execution_count": 34,
   "metadata": {},
   "outputs": [
    {
     "name": "stdout",
     "output_type": "stream",
     "text": [
      "tf.Tensor([2 4 8], shape=(3,), dtype=int32)\n"
     ]
    }
   ],
   "source": [
    "temp = tf.constant([[1,2,4,8,16],\n",
    "                   [1,4,8,16,32],\n",
    "                   [1,8,16,32,64]])\n",
    "print(temp[0, 1:4])"
   ]
  },
  {
   "cell_type": "code",
   "execution_count": 35,
   "metadata": {},
   "outputs": [
    {
     "name": "stdout",
     "output_type": "stream",
     "text": [
      "tf.Tensor(\n",
      "[[ 1  2  4  8 16]\n",
      " [ 1  4  8 16 32]], shape=(2, 5), dtype=int32)\n"
     ]
    }
   ],
   "source": [
    "print(temp[0:2])"
   ]
  },
  {
   "attachments": {},
   "cell_type": "markdown",
   "metadata": {},
   "source": [
    "4. Reshaping"
   ]
  },
  {
   "cell_type": "code",
   "execution_count": 36,
   "metadata": {},
   "outputs": [
    {
     "name": "stdout",
     "output_type": "stream",
     "text": [
      "tf.Tensor([  0   1   4   9  16  25  36  49  64  81 100 121], shape=(12,), dtype=int32)\n"
     ]
    }
   ],
   "source": [
    "x = tf.range(12) ** 2\n",
    "print(x)"
   ]
  },
  {
   "cell_type": "code",
   "execution_count": 37,
   "metadata": {},
   "outputs": [
    {
     "name": "stdout",
     "output_type": "stream",
     "text": [
      "tf.Tensor(\n",
      "[[[  0   1   4]\n",
      "  [  9  16  25]]\n",
      "\n",
      " [[ 36  49  64]\n",
      "  [ 81 100 121]]], shape=(2, 2, 3), dtype=int32)\n"
     ]
    }
   ],
   "source": [
    "x = tf.reshape(x, (2,2,3))\n",
    "print(x)"
   ]
  },
  {
   "cell_type": "code",
   "execution_count": 38,
   "metadata": {},
   "outputs": [
    {
     "name": "stdout",
     "output_type": "stream",
     "text": [
      "tf.Tensor(\n",
      "[[  0   1   4]\n",
      " [  9  16  25]\n",
      " [ 36  49  64]\n",
      " [ 81 100 121]], shape=(4, 3), dtype=int32)\n"
     ]
    }
   ],
   "source": [
    "temp = tf.reshape(x, (4,3))\n",
    "print(temp)"
   ]
  },
  {
   "cell_type": "code",
   "execution_count": 39,
   "metadata": {},
   "outputs": [
    {
     "name": "stdout",
     "output_type": "stream",
     "text": [
      "tf.Tensor(\n",
      "[[  0   9  36  81]\n",
      " [  1  16  49 100]\n",
      " [  4  25  64 121]], shape=(3, 4), dtype=int32)\n",
      "tf.Tensor(\n",
      "[[  0   1   4]\n",
      " [  9  16  25]\n",
      " [ 36  49  64]\n",
      " [ 81 100 121]], shape=(4, 3), dtype=int32)\n"
     ]
    }
   ],
   "source": [
    "temp = tf.transpose(temp)\n",
    "print(temp)\n",
    "\n",
    "temp2 = tf.transpose(temp, perm=[1,0])\n",
    "print(temp2)"
   ]
  }
 ],
 "metadata": {
  "kernelspec": {
   "display_name": ".venv",
   "language": "python",
   "name": "python3"
  },
  "language_info": {
   "codemirror_mode": {
    "name": "ipython",
    "version": 3
   },
   "file_extension": ".py",
   "mimetype": "text/x-python",
   "name": "python",
   "nbconvert_exporter": "python",
   "pygments_lexer": "ipython3",
   "version": "3.11.3"
  },
  "orig_nbformat": 4
 },
 "nbformat": 4,
 "nbformat_minor": 2
}
